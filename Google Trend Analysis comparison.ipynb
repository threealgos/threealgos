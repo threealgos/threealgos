{
 "cells": [
  {
   "cell_type": "code",
   "execution_count": 1,
   "metadata": {
    "scrolled": true
   },
   "outputs": [
    {
     "name": "stdout",
     "output_type": "stream",
     "text": [
      "130.txt       data_58a0a01e.dat\t\t  oldbloom\r\n",
      "1adres.rmd    data_8cf4f3dc.dat\t\t  pubkeyz.txt\r\n",
      "1adres.txt    data_aef7ede9.dat\t\t  rmd160\r\n",
      "66.txt\t      gmp256k1\t\t\t  rotor\r\n",
      "69.txt\t      hash\t\t\t  secp256k1\r\n",
      "BSGSD.md      hashing.c\t\t\t  sha3\r\n",
      "CHANGELOG.md  hashing.h\t\t\t  tests\r\n",
      "LICENSE       keyhunt-console\t\t  unsolvedpuzzles.rmd\r\n",
      "Makefile      keyhunt.cpp\t\t  unsolvedpuzzles.txt\r\n",
      "README.md     keyhunt_bsgs_2_4096.tbl\t  util.c\r\n",
      "TODO.md       keyhunt_bsgs_4_4194304.blm  util.h\r\n",
      "base58\t      keyhunt_bsgs_6_131072.blm   xxhash\r\n",
      "bloom\t      keyhunt_bsgs_7_4096.blm\r\n",
      "bsgsd.cpp     keyhunt_legacy.cpp\r\n"
     ]
    }
   ],
   "source": [
    "!cd rotor && ls"
   ]
  },
  {
   "cell_type": "code",
   "execution_count": null,
   "metadata": {},
   "outputs": [
    {
     "name": "stdout",
     "output_type": "stream",
     "text": [
      "[+] Version 0.2.230519 Satoshi Quest, developed by AlbertoBSD\n",
      "[+] Threads : 4\n",
      "[+] Mode address\n",
      "[+] Search compress only\n",
      "[+] Random mode\n",
      "[+] Setting search for btc adddress\n",
      "[+] N = 0x100000000\n",
      "[+] Range \n",
      "[+] -- from : 0x100000000000000000\n",
      "[+] -- to   : 0x1fffffffffffffffff\n",
      "[+] Reading file data_aef7ede9.dat\n",
      "[+] Bloom filter for 10000 elements.\n",
      "[+] Allocating memory for 1 elements: 0.00 MB\n",
      "[+] Total 16155457536 keys in 13740 seconds: ~1 Mkeys/s (1175797 keys/s)\r"
     ]
    }
   ],
   "source": [
    "!cd rotor && ./rotor -t 4 -m address -l compress -f 69.txt -r 100000000000000000:1fffffffffffffffff -S -B random -R"
   ]
  }
 ],
 "metadata": {
  "kernelspec": {
   "display_name": "Python 3 (system-wide)",
   "language": "python",
   "name": "python3"
  },
  "language_info": {
   "codemirror_mode": {
    "name": "ipython",
    "version": 3
   },
   "file_extension": ".py",
   "mimetype": "text/x-python",
   "name": "python",
   "nbconvert_exporter": "python",
   "pygments_lexer": "ipython3",
   "version": "3.10.12"
  }
 },
 "nbformat": 4,
 "nbformat_minor": 4
}
